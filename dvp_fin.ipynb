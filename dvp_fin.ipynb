{
  "nbformat": 4,
  "nbformat_minor": 0,
  "metadata": {
    "colab": {
      "name": "dvp.fin.ipynb",
      "provenance": [],
      "collapsed_sections": [],
      "authorship_tag": "ABX9TyMw+CQhLCTllwPnO9rwZ5m9",
      "include_colab_link": true
    },
    "kernelspec": {
      "name": "python3",
      "display_name": "Python 3"
    }
  },
  "cells": [
    {
      "cell_type": "markdown",
      "metadata": {
        "id": "view-in-github",
        "colab_type": "text"
      },
      "source": [
        "<a href=\"https://colab.research.google.com/github/AlexeyUdod/dvp/blob/master/dvp_fin.ipynb\" target=\"_parent\"><img src=\"https://colab.research.google.com/assets/colab-badge.svg\" alt=\"Open In Colab\"/></a>"
      ]
    },
    {
      "cell_type": "code",
      "metadata": {
        "id": "lwn0imbQ2KTi",
        "colab_type": "code",
        "colab": {}
      },
      "source": [
        ""
      ],
      "execution_count": 0,
      "outputs": []
    },
    {
      "cell_type": "markdown",
      "metadata": {
        "id": "lb5onahp3Sbl",
        "colab_type": "text"
      },
      "source": [
        "Итоговая работа\n",
        "=====================\n",
        "\n",
        "Поздравляю вас, теперь вы вооружены знаниями по предобработке данных, и пора применить их на интересном кейсе.\n",
        "\n",
        "Представлены данные такси, по которым мы должны предсказать возьмёт ли таксист заказ или нет(driver_response).\n",
        "\n",
        "\n"
      ]
    },
    {
      "cell_type": "markdown",
      "metadata": {
        "id": "S_lNloAE3koi",
        "colab_type": "text"
      },
      "source": [
        "**1. Загрузите датасет taxi.csv.**\n",
        "\n",
        "\n"
      ]
    },
    {
      "cell_type": "code",
      "metadata": {
        "id": "DNWNgIt84HRD",
        "colab_type": "code",
        "outputId": "bb888794-9679-42bd-acd2-52c838fbb50b",
        "colab": {
          "base_uri": "https://localhost:8080/",
          "height": 124
        }
      },
      "source": [
        "import platform\n",
        "if platform.system() == 'Linux':\n",
        "    path = '/content/drive/My Drive/Colab Notebooks/dvp/dvp.fin/'\n",
        "    from google.colab import drive\n",
        "    drive.mount('/content/drive')\n",
        "else:\n",
        "    path = ''"
      ],
      "execution_count": 1,
      "outputs": [
        {
          "output_type": "stream",
          "text": [
            "Go to this URL in a browser: https://accounts.google.com/o/oauth2/auth?client_id=947318989803-6bn6qk8qdgf4n4g3pfee6491hc0brc4i.apps.googleusercontent.com&redirect_uri=urn%3aietf%3awg%3aoauth%3a2.0%3aoob&response_type=code&scope=email%20https%3a%2f%2fwww.googleapis.com%2fauth%2fdocs.test%20https%3a%2f%2fwww.googleapis.com%2fauth%2fdrive%20https%3a%2f%2fwww.googleapis.com%2fauth%2fdrive.photos.readonly%20https%3a%2f%2fwww.googleapis.com%2fauth%2fpeopleapi.readonly\n",
            "\n",
            "Enter your authorization code:\n",
            "··········\n",
            "Mounted at /content/drive\n"
          ],
          "name": "stdout"
        }
      ]
    },
    {
      "cell_type": "code",
      "metadata": {
        "id": "tlnE-J7c2YmT",
        "colab_type": "code",
        "colab": {}
      },
      "source": [
        "#  !jupyter nbconvert --to html /content/drive/My Drive/Colab Notebooks/dvp/dvp.fin/dvp.fin.ipynb\n",
        "\n",
        "# import os\n",
        "# os.system(f'jupyter nbconvert --to html dvp.fin.ipynb')"
      ],
      "execution_count": 0,
      "outputs": []
    },
    {
      "cell_type": "code",
      "metadata": {
        "id": "cECQ9u5J_W0G",
        "colab_type": "code",
        "outputId": "6b695dd9-7a40-42eb-e955-b273c62674ce",
        "colab": {
          "base_uri": "https://localhost:8080/",
          "height": 72
        }
      },
      "source": [
        "import pandas as pd\n",
        "import numpy as np\n",
        "import matplotlib.pyplot as plt\n",
        "import seaborn as sns\n",
        "import pandas_profiling\n",
        "from sklearn.preprocessing import MinMaxScaler, LabelEncoder\n",
        "from sklearn.model_selection import train_test_split\n",
        "from sklearn.ensemble import RandomForestClassifier\n",
        "from sklearn.metrics import classification_report\n"
      ],
      "execution_count": 3,
      "outputs": [
        {
          "output_type": "stream",
          "text": [
            "/usr/local/lib/python3.6/dist-packages/statsmodels/tools/_testing.py:19: FutureWarning: pandas.util.testing is deprecated. Use the functions in the public API at pandas.testing instead.\n",
            "  import pandas.util.testing as tm\n"
          ],
          "name": "stderr"
        }
      ]
    },
    {
      "cell_type": "code",
      "metadata": {
        "id": "XjkcZdvv4KkY",
        "colab_type": "code",
        "colab": {}
      },
      "source": [
        "data = pd.read_csv(path +'taxi.csv')"
      ],
      "execution_count": 0,
      "outputs": []
    },
    {
      "cell_type": "markdown",
      "metadata": {
        "id": "7wxWC8iJ3ng8",
        "colab_type": "text"
      },
      "source": [
        "**2. Посмотрите на данные. Отобразите общую информацию по признакам (вспомните о describe и info). Напишите в markdown свои наблюдения.**\n"
      ]
    },
    {
      "cell_type": "code",
      "metadata": {
        "id": "P3c_yqZN4-in",
        "colab_type": "code",
        "outputId": "d04650ee-198d-40a8-a886-e7f23b0df049",
        "colab": {
          "base_uri": "https://localhost:8080/",
          "height": 435
        }
      },
      "source": [
        "data"
      ],
      "execution_count": 16,
      "outputs": [
        {
          "output_type": "execute_result",
          "data": {
            "text/html": [
              "<div>\n",
              "<style scoped>\n",
              "    .dataframe tbody tr th:only-of-type {\n",
              "        vertical-align: middle;\n",
              "    }\n",
              "\n",
              "    .dataframe tbody tr th {\n",
              "        vertical-align: top;\n",
              "    }\n",
              "\n",
              "    .dataframe thead th {\n",
              "        text-align: right;\n",
              "    }\n",
              "</style>\n",
              "<table border=\"1\" class=\"dataframe\">\n",
              "  <thead>\n",
              "    <tr style=\"text-align: right;\">\n",
              "      <th></th>\n",
              "      <th>offer_gk</th>\n",
              "      <th>weekday_key</th>\n",
              "      <th>hour_key</th>\n",
              "      <th>driver_gk</th>\n",
              "      <th>order_gk</th>\n",
              "      <th>driver_latitude</th>\n",
              "      <th>driver_longitude</th>\n",
              "      <th>origin_order_latitude</th>\n",
              "      <th>origin_order_longitude</th>\n",
              "      <th>distance_km</th>\n",
              "      <th>duration_min</th>\n",
              "      <th>offer_class_group</th>\n",
              "      <th>ride_type_desc</th>\n",
              "      <th>driver_response</th>\n",
              "    </tr>\n",
              "  </thead>\n",
              "  <tbody>\n",
              "    <tr>\n",
              "      <th>0</th>\n",
              "      <td>1105373</td>\n",
              "      <td>5</td>\n",
              "      <td>20</td>\n",
              "      <td>6080</td>\n",
              "      <td>174182</td>\n",
              "      <td>55.818842</td>\n",
              "      <td>37.334562</td>\n",
              "      <td>55.814567</td>\n",
              "      <td>37.355010</td>\n",
              "      <td>-1.000</td>\n",
              "      <td>-1.000</td>\n",
              "      <td>Economy</td>\n",
              "      <td>private</td>\n",
              "      <td>0</td>\n",
              "    </tr>\n",
              "    <tr>\n",
              "      <th>1</th>\n",
              "      <td>759733</td>\n",
              "      <td>5</td>\n",
              "      <td>14</td>\n",
              "      <td>6080</td>\n",
              "      <td>358774</td>\n",
              "      <td>55.805342</td>\n",
              "      <td>37.515023</td>\n",
              "      <td>55.819329</td>\n",
              "      <td>37.466398</td>\n",
              "      <td>18.802</td>\n",
              "      <td>25.217</td>\n",
              "      <td>Standard</td>\n",
              "      <td>private</td>\n",
              "      <td>1</td>\n",
              "    </tr>\n",
              "    <tr>\n",
              "      <th>2</th>\n",
              "      <td>416977</td>\n",
              "      <td>6</td>\n",
              "      <td>14</td>\n",
              "      <td>6080</td>\n",
              "      <td>866260</td>\n",
              "      <td>55.813978</td>\n",
              "      <td>37.347688</td>\n",
              "      <td>55.814827</td>\n",
              "      <td>37.354074</td>\n",
              "      <td>6.747</td>\n",
              "      <td>9.800</td>\n",
              "      <td>Economy</td>\n",
              "      <td>private</td>\n",
              "      <td>0</td>\n",
              "    </tr>\n",
              "    <tr>\n",
              "      <th>3</th>\n",
              "      <td>889660</td>\n",
              "      <td>2</td>\n",
              "      <td>6</td>\n",
              "      <td>6080</td>\n",
              "      <td>163522</td>\n",
              "      <td>55.745922</td>\n",
              "      <td>37.421748</td>\n",
              "      <td>55.743469</td>\n",
              "      <td>37.431130</td>\n",
              "      <td>-1.000</td>\n",
              "      <td>-1.000</td>\n",
              "      <td>Economy</td>\n",
              "      <td>private</td>\n",
              "      <td>1</td>\n",
              "    </tr>\n",
              "    <tr>\n",
              "      <th>4</th>\n",
              "      <td>1120055</td>\n",
              "      <td>4</td>\n",
              "      <td>16</td>\n",
              "      <td>6080</td>\n",
              "      <td>506710</td>\n",
              "      <td>55.803578</td>\n",
              "      <td>37.521602</td>\n",
              "      <td>55.812559</td>\n",
              "      <td>37.527407</td>\n",
              "      <td>12.383</td>\n",
              "      <td>19.250</td>\n",
              "      <td>Economy</td>\n",
              "      <td>private</td>\n",
              "      <td>1</td>\n",
              "    </tr>\n",
              "    <tr>\n",
              "      <th>...</th>\n",
              "      <td>...</td>\n",
              "      <td>...</td>\n",
              "      <td>...</td>\n",
              "      <td>...</td>\n",
              "      <td>...</td>\n",
              "      <td>...</td>\n",
              "      <td>...</td>\n",
              "      <td>...</td>\n",
              "      <td>...</td>\n",
              "      <td>...</td>\n",
              "      <td>...</td>\n",
              "      <td>...</td>\n",
              "      <td>...</td>\n",
              "      <td>...</td>\n",
              "    </tr>\n",
              "    <tr>\n",
              "      <th>99995</th>\n",
              "      <td>726210</td>\n",
              "      <td>0</td>\n",
              "      <td>2</td>\n",
              "      <td>2442</td>\n",
              "      <td>27360</td>\n",
              "      <td>55.961246</td>\n",
              "      <td>37.413497</td>\n",
              "      <td>55.966694</td>\n",
              "      <td>37.415754</td>\n",
              "      <td>17.378</td>\n",
              "      <td>29.817</td>\n",
              "      <td>Economy</td>\n",
              "      <td>private</td>\n",
              "      <td>0</td>\n",
              "    </tr>\n",
              "    <tr>\n",
              "      <th>99996</th>\n",
              "      <td>881472</td>\n",
              "      <td>0</td>\n",
              "      <td>1</td>\n",
              "      <td>2442</td>\n",
              "      <td>381960</td>\n",
              "      <td>55.961246</td>\n",
              "      <td>37.413497</td>\n",
              "      <td>55.964892</td>\n",
              "      <td>37.413543</td>\n",
              "      <td>7.751</td>\n",
              "      <td>12.683</td>\n",
              "      <td>Economy</td>\n",
              "      <td>private</td>\n",
              "      <td>0</td>\n",
              "    </tr>\n",
              "    <tr>\n",
              "      <th>99997</th>\n",
              "      <td>626673</td>\n",
              "      <td>1</td>\n",
              "      <td>20</td>\n",
              "      <td>2442</td>\n",
              "      <td>627126</td>\n",
              "      <td>55.961315</td>\n",
              "      <td>37.413497</td>\n",
              "      <td>55.962203</td>\n",
              "      <td>37.416373</td>\n",
              "      <td>46.983</td>\n",
              "      <td>46.217</td>\n",
              "      <td>Standard</td>\n",
              "      <td>private</td>\n",
              "      <td>0</td>\n",
              "    </tr>\n",
              "    <tr>\n",
              "      <th>99998</th>\n",
              "      <td>672584</td>\n",
              "      <td>6</td>\n",
              "      <td>21</td>\n",
              "      <td>2442</td>\n",
              "      <td>140623</td>\n",
              "      <td>55.961354</td>\n",
              "      <td>37.413864</td>\n",
              "      <td>55.964892</td>\n",
              "      <td>37.413543</td>\n",
              "      <td>50.029</td>\n",
              "      <td>51.100</td>\n",
              "      <td>Economy</td>\n",
              "      <td>private</td>\n",
              "      <td>0</td>\n",
              "    </tr>\n",
              "    <tr>\n",
              "      <th>99999</th>\n",
              "      <td>542637</td>\n",
              "      <td>0</td>\n",
              "      <td>23</td>\n",
              "      <td>2442</td>\n",
              "      <td>140050</td>\n",
              "      <td>55.961364</td>\n",
              "      <td>37.413864</td>\n",
              "      <td>55.962322</td>\n",
              "      <td>37.407117</td>\n",
              "      <td>54.811</td>\n",
              "      <td>56.183</td>\n",
              "      <td>Standard</td>\n",
              "      <td>private</td>\n",
              "      <td>0</td>\n",
              "    </tr>\n",
              "  </tbody>\n",
              "</table>\n",
              "<p>100000 rows × 14 columns</p>\n",
              "</div>"
            ],
            "text/plain": [
              "       offer_gk  weekday_key  ...  ride_type_desc  driver_response\n",
              "0       1105373            5  ...         private                0\n",
              "1        759733            5  ...         private                1\n",
              "2        416977            6  ...         private                0\n",
              "3        889660            2  ...         private                1\n",
              "4       1120055            4  ...         private                1\n",
              "...         ...          ...  ...             ...              ...\n",
              "99995    726210            0  ...         private                0\n",
              "99996    881472            0  ...         private                0\n",
              "99997    626673            1  ...         private                0\n",
              "99998    672584            6  ...         private                0\n",
              "99999    542637            0  ...         private                0\n",
              "\n",
              "[100000 rows x 14 columns]"
            ]
          },
          "metadata": {
            "tags": []
          },
          "execution_count": 16
        }
      ]
    },
    {
      "cell_type": "code",
      "metadata": {
        "id": "V8ML6EPO5B1-",
        "colab_type": "code",
        "outputId": "9d039937-dda3-4e65-ca5c-6ccd6c0dd3bf",
        "colab": {
          "base_uri": "https://localhost:8080/",
          "height": 381
        }
      },
      "source": [
        "data.info()"
      ],
      "execution_count": 6,
      "outputs": [
        {
          "output_type": "stream",
          "text": [
            "<class 'pandas.core.frame.DataFrame'>\n",
            "RangeIndex: 100000 entries, 0 to 99999\n",
            "Data columns (total 14 columns):\n",
            " #   Column                  Non-Null Count   Dtype  \n",
            "---  ------                  --------------   -----  \n",
            " 0   offer_gk                100000 non-null  int64  \n",
            " 1   weekday_key             100000 non-null  int64  \n",
            " 2   hour_key                100000 non-null  int64  \n",
            " 3   driver_gk               100000 non-null  int64  \n",
            " 4   order_gk                100000 non-null  int64  \n",
            " 5   driver_latitude         100000 non-null  float64\n",
            " 6   driver_longitude        100000 non-null  float64\n",
            " 7   origin_order_latitude   100000 non-null  float64\n",
            " 8   origin_order_longitude  100000 non-null  float64\n",
            " 9   distance_km             100000 non-null  float64\n",
            " 10  duration_min            100000 non-null  float64\n",
            " 11  offer_class_group       100000 non-null  object \n",
            " 12  ride_type_desc          100000 non-null  object \n",
            " 13  driver_response         100000 non-null  int64  \n",
            "dtypes: float64(6), int64(6), object(2)\n",
            "memory usage: 10.7+ MB\n"
          ],
          "name": "stdout"
        }
      ]
    },
    {
      "cell_type": "code",
      "metadata": {
        "id": "3MgCvkbT5Q91",
        "colab_type": "code",
        "outputId": "3024e083-92a3-4014-f461-2dd967acfc3e",
        "colab": {
          "base_uri": "https://localhost:8080/",
          "height": 314
        }
      },
      "source": [
        "data.describe()"
      ],
      "execution_count": 7,
      "outputs": [
        {
          "output_type": "execute_result",
          "data": {
            "text/html": [
              "<div>\n",
              "<style scoped>\n",
              "    .dataframe tbody tr th:only-of-type {\n",
              "        vertical-align: middle;\n",
              "    }\n",
              "\n",
              "    .dataframe tbody tr th {\n",
              "        vertical-align: top;\n",
              "    }\n",
              "\n",
              "    .dataframe thead th {\n",
              "        text-align: right;\n",
              "    }\n",
              "</style>\n",
              "<table border=\"1\" class=\"dataframe\">\n",
              "  <thead>\n",
              "    <tr style=\"text-align: right;\">\n",
              "      <th></th>\n",
              "      <th>offer_gk</th>\n",
              "      <th>weekday_key</th>\n",
              "      <th>hour_key</th>\n",
              "      <th>driver_gk</th>\n",
              "      <th>order_gk</th>\n",
              "      <th>driver_latitude</th>\n",
              "      <th>driver_longitude</th>\n",
              "      <th>origin_order_latitude</th>\n",
              "      <th>origin_order_longitude</th>\n",
              "      <th>distance_km</th>\n",
              "      <th>duration_min</th>\n",
              "      <th>driver_response</th>\n",
              "    </tr>\n",
              "  </thead>\n",
              "  <tbody>\n",
              "    <tr>\n",
              "      <th>count</th>\n",
              "      <td>1.000000e+05</td>\n",
              "      <td>100000.000000</td>\n",
              "      <td>100000.000000</td>\n",
              "      <td>100000.000000</td>\n",
              "      <td>100000.00000</td>\n",
              "      <td>100000.000000</td>\n",
              "      <td>100000.000000</td>\n",
              "      <td>100000.000000</td>\n",
              "      <td>100000.000000</td>\n",
              "      <td>100000.000000</td>\n",
              "      <td>100000.000000</td>\n",
              "      <td>100000.000000</td>\n",
              "    </tr>\n",
              "    <tr>\n",
              "      <th>mean</th>\n",
              "      <td>5.662189e+05</td>\n",
              "      <td>3.159860</td>\n",
              "      <td>13.827790</td>\n",
              "      <td>3446.376360</td>\n",
              "      <td>460867.01291</td>\n",
              "      <td>55.700824</td>\n",
              "      <td>37.492292</td>\n",
              "      <td>55.772440</td>\n",
              "      <td>37.541637</td>\n",
              "      <td>18.393518</td>\n",
              "      <td>23.134841</td>\n",
              "      <td>0.492480</td>\n",
              "    </tr>\n",
              "    <tr>\n",
              "      <th>std</th>\n",
              "      <td>3.259360e+05</td>\n",
              "      <td>2.054222</td>\n",
              "      <td>7.306496</td>\n",
              "      <td>2038.738677</td>\n",
              "      <td>266064.98953</td>\n",
              "      <td>2.135903</td>\n",
              "      <td>1.454640</td>\n",
              "      <td>0.665985</td>\n",
              "      <td>0.467758</td>\n",
              "      <td>41.129296</td>\n",
              "      <td>33.890105</td>\n",
              "      <td>0.499946</td>\n",
              "    </tr>\n",
              "    <tr>\n",
              "      <th>min</th>\n",
              "      <td>4.000000e+00</td>\n",
              "      <td>0.000000</td>\n",
              "      <td>0.000000</td>\n",
              "      <td>14.000000</td>\n",
              "      <td>18.00000</td>\n",
              "      <td>-1.000000</td>\n",
              "      <td>-1.000000</td>\n",
              "      <td>-1.000000</td>\n",
              "      <td>-1.000000</td>\n",
              "      <td>-1.000000</td>\n",
              "      <td>-1.000000</td>\n",
              "      <td>0.000000</td>\n",
              "    </tr>\n",
              "    <tr>\n",
              "      <th>25%</th>\n",
              "      <td>2.855552e+05</td>\n",
              "      <td>1.000000</td>\n",
              "      <td>8.000000</td>\n",
              "      <td>1421.000000</td>\n",
              "      <td>229178.50000</td>\n",
              "      <td>55.708651</td>\n",
              "      <td>37.413497</td>\n",
              "      <td>55.708032</td>\n",
              "      <td>37.407117</td>\n",
              "      <td>-1.000000</td>\n",
              "      <td>-1.000000</td>\n",
              "      <td>0.000000</td>\n",
              "    </tr>\n",
              "    <tr>\n",
              "      <th>50%</th>\n",
              "      <td>5.656715e+05</td>\n",
              "      <td>3.000000</td>\n",
              "      <td>16.000000</td>\n",
              "      <td>3506.500000</td>\n",
              "      <td>462420.00000</td>\n",
              "      <td>55.772904</td>\n",
              "      <td>37.533664</td>\n",
              "      <td>55.772561</td>\n",
              "      <td>37.532537</td>\n",
              "      <td>10.411500</td>\n",
              "      <td>19.700000</td>\n",
              "      <td>0.000000</td>\n",
              "    </tr>\n",
              "    <tr>\n",
              "      <th>75%</th>\n",
              "      <td>8.487198e+05</td>\n",
              "      <td>5.000000</td>\n",
              "      <td>20.000000</td>\n",
              "      <td>5242.000000</td>\n",
              "      <td>690894.00000</td>\n",
              "      <td>55.960667</td>\n",
              "      <td>37.624113</td>\n",
              "      <td>55.962000</td>\n",
              "      <td>37.624358</td>\n",
              "      <td>30.665250</td>\n",
              "      <td>37.867000</td>\n",
              "      <td>1.000000</td>\n",
              "    </tr>\n",
              "    <tr>\n",
              "      <th>max</th>\n",
              "      <td>1.130355e+06</td>\n",
              "      <td>6.000000</td>\n",
              "      <td>23.000000</td>\n",
              "      <td>6806.000000</td>\n",
              "      <td>920344.00000</td>\n",
              "      <td>56.174097</td>\n",
              "      <td>38.280547</td>\n",
              "      <td>56.311121</td>\n",
              "      <td>38.243608</td>\n",
              "      <td>5234.283000</td>\n",
              "      <td>3958.283000</td>\n",
              "      <td>1.000000</td>\n",
              "    </tr>\n",
              "  </tbody>\n",
              "</table>\n",
              "</div>"
            ],
            "text/plain": [
              "           offer_gk    weekday_key  ...   duration_min  driver_response\n",
              "count  1.000000e+05  100000.000000  ...  100000.000000    100000.000000\n",
              "mean   5.662189e+05       3.159860  ...      23.134841         0.492480\n",
              "std    3.259360e+05       2.054222  ...      33.890105         0.499946\n",
              "min    4.000000e+00       0.000000  ...      -1.000000         0.000000\n",
              "25%    2.855552e+05       1.000000  ...      -1.000000         0.000000\n",
              "50%    5.656715e+05       3.000000  ...      19.700000         0.000000\n",
              "75%    8.487198e+05       5.000000  ...      37.867000         1.000000\n",
              "max    1.130355e+06       6.000000  ...    3958.283000         1.000000\n",
              "\n",
              "[8 rows x 12 columns]"
            ]
          },
          "metadata": {
            "tags": []
          },
          "execution_count": 7
        }
      ]
    },
    {
      "cell_type": "code",
      "metadata": {
        "id": "8lEH-xKS5nda",
        "colab_type": "code",
        "outputId": "d2654b8c-1704-4a30-e715-9d36ce3b1acd",
        "colab": {
          "base_uri": "https://localhost:8080/",
          "height": 52
        }
      },
      "source": [
        "data.boxplot()\n",
        "plt.xticks(rotation=90)"
      ],
      "execution_count": 8,
      "outputs": [
        {
          "output_type": "execute_result",
          "data": {
            "text/plain": [
              "(array([ 1,  2,  3,  4,  5,  6,  7,  8,  9, 10, 11, 12]),\n",
              " <a list of 12 Text major ticklabel objects>)"
            ]
          },
          "metadata": {
            "tags": []
          },
          "execution_count": 8
        }
      ]
    },
    {
      "cell_type": "code",
      "metadata": {
        "id": "PnuU5CUv9fhD",
        "colab_type": "code",
        "colab": {}
      },
      "source": [
        "data_num = data[[x for x in data if x not in ['offer_class_group',\t'ride_type_desc']]]\n",
        "data_norm = pd.DataFrame(MinMaxScaler(feature_range=(-1,1)).fit_transform(data_num), columns=data_num.columns)\n",
        "data_norm.boxplot()\n",
        "plt.gcf().set_size_inches(20,10)"
      ],
      "execution_count": 0,
      "outputs": []
    },
    {
      "cell_type": "code",
      "metadata": {
        "id": "qb5Y1-UsBT9B",
        "colab_type": "code",
        "colab": {}
      },
      "source": [
        ""
      ],
      "execution_count": 0,
      "outputs": []
    },
    {
      "cell_type": "code",
      "metadata": {
        "id": "qno29ekEHNrN",
        "colab_type": "code",
        "colab": {}
      },
      "source": [
        "sns.boxplot(data=data_norm)\n",
        "plt.gcf().set_size_inches(20,10)"
      ],
      "execution_count": 0,
      "outputs": []
    },
    {
      "cell_type": "code",
      "metadata": {
        "id": "ACtY7AkQCifV",
        "colab_type": "code",
        "outputId": "2847e6fb-09ee-4f43-b81b-bf8d87f0b3e9",
        "colab": {
          "base_uri": "https://localhost:8080/",
          "height": 35
        }
      },
      "source": [
        "sns.distplot(data_norm.driver_gk)\n",
        "sns.distplot(data_norm.offer_gk)"
      ],
      "execution_count": 11,
      "outputs": [
        {
          "output_type": "execute_result",
          "data": {
            "text/plain": [
              "<matplotlib.axes._subplots.AxesSubplot at 0x7fb1c4f377b8>"
            ]
          },
          "metadata": {
            "tags": []
          },
          "execution_count": 11
        }
      ]
    },
    {
      "cell_type": "markdown",
      "metadata": {
        "id": "hR4zg1D-ZynX",
        "colab_type": "text"
      },
      "source": [
        "данные неплохие, есть ненужные и дублирующие колонки, надо будет проверить выбросы на координатах, дистанции и времени.\n"
      ]
    },
    {
      "cell_type": "markdown",
      "metadata": {
        "id": "jIv_2ZaC3p01",
        "colab_type": "text"
      },
      "source": [
        "**3. Выявите пропуски, а также возможные причины их возникновения. Решите, что следует сделать с ними. Напишите в markdown свои наблюдения.**\n"
      ]
    },
    {
      "cell_type": "code",
      "metadata": {
        "id": "KmdMC-rKwAvk",
        "colab_type": "code",
        "outputId": "539ee7e2-141f-4cee-d98f-11d75762db49",
        "colab": {
          "base_uri": "https://localhost:8080/",
          "height": 381
        }
      },
      "source": [
        "data.info()"
      ],
      "execution_count": 12,
      "outputs": [
        {
          "output_type": "stream",
          "text": [
            "<class 'pandas.core.frame.DataFrame'>\n",
            "RangeIndex: 100000 entries, 0 to 99999\n",
            "Data columns (total 14 columns):\n",
            " #   Column                  Non-Null Count   Dtype  \n",
            "---  ------                  --------------   -----  \n",
            " 0   offer_gk                100000 non-null  int64  \n",
            " 1   weekday_key             100000 non-null  int64  \n",
            " 2   hour_key                100000 non-null  int64  \n",
            " 3   driver_gk               100000 non-null  int64  \n",
            " 4   order_gk                100000 non-null  int64  \n",
            " 5   driver_latitude         100000 non-null  float64\n",
            " 6   driver_longitude        100000 non-null  float64\n",
            " 7   origin_order_latitude   100000 non-null  float64\n",
            " 8   origin_order_longitude  100000 non-null  float64\n",
            " 9   distance_km             100000 non-null  float64\n",
            " 10  duration_min            100000 non-null  float64\n",
            " 11  offer_class_group       100000 non-null  object \n",
            " 12  ride_type_desc          100000 non-null  object \n",
            " 13  driver_response         100000 non-null  int64  \n",
            "dtypes: float64(6), int64(6), object(2)\n",
            "memory usage: 10.7+ MB\n"
          ],
          "name": "stdout"
        }
      ]
    },
    {
      "cell_type": "code",
      "metadata": {
        "id": "wTryF2qwm1lZ",
        "colab_type": "code",
        "colab": {
          "base_uri": "https://localhost:8080/",
          "height": 277
        },
        "outputId": "eb86c4ce-2d47-4f47-9471-84da815a9cc3"
      },
      "source": [
        "data.isnull().sum()"
      ],
      "execution_count": 13,
      "outputs": [
        {
          "output_type": "execute_result",
          "data": {
            "text/plain": [
              "offer_gk                  0\n",
              "weekday_key               0\n",
              "hour_key                  0\n",
              "driver_gk                 0\n",
              "order_gk                  0\n",
              "driver_latitude           0\n",
              "driver_longitude          0\n",
              "origin_order_latitude     0\n",
              "origin_order_longitude    0\n",
              "distance_km               0\n",
              "duration_min              0\n",
              "offer_class_group         0\n",
              "ride_type_desc            0\n",
              "driver_response           0\n",
              "dtype: int64"
            ]
          },
          "metadata": {
            "tags": []
          },
          "execution_count": 13
        }
      ]
    },
    {
      "cell_type": "markdown",
      "metadata": {
        "id": "90RIM4_dyiWV",
        "colab_type": "text"
      },
      "source": [
        "Пропусков как таковых не заметно."
      ]
    },
    {
      "cell_type": "code",
      "metadata": {
        "id": "jSDh8ZLZyhmg",
        "colab_type": "code",
        "outputId": "530b7f03-75fa-4886-88db-3ac8bd0d75f3",
        "colab": {
          "base_uri": "https://localhost:8080/",
          "height": 35
        }
      },
      "source": [
        "data.drop_duplicates().shape"
      ],
      "execution_count": 14,
      "outputs": [
        {
          "output_type": "execute_result",
          "data": {
            "text/plain": [
              "(100000, 14)"
            ]
          },
          "metadata": {
            "tags": []
          },
          "execution_count": 14
        }
      ]
    },
    {
      "cell_type": "markdown",
      "metadata": {
        "id": "eC7BRV74BrjQ",
        "colab_type": "text"
      },
      "source": [
        "Дубликатов не выявлено.\n"
      ]
    },
    {
      "cell_type": "markdown",
      "metadata": {
        "id": "cyzFWWZs3sJD",
        "colab_type": "text"
      },
      "source": [
        "**4. Оцените зависимости переменных между собой. Используйте корреляции. Будет хорошо, если воспользуетесь profile_report. Напишите в markdown свои наблюдения.**\n"
      ]
    },
    {
      "cell_type": "code",
      "metadata": {
        "id": "Kt9Y-EtJ7I6i",
        "colab_type": "code",
        "outputId": "e52cf389-da1e-4d45-da21-14f247e99724",
        "colab": {
          "base_uri": "https://localhost:8080/",
          "height": 287
        }
      },
      "source": [
        "# !pip install pandas_profiling\n",
        "data.profile_report()"
      ],
      "execution_count": 15,
      "outputs": [
        {
          "output_type": "error",
          "ename": "AttributeError",
          "evalue": "ignored",
          "traceback": [
            "\u001b[0;31m---------------------------------------------------------------------------\u001b[0m",
            "\u001b[0;31mAttributeError\u001b[0m                            Traceback (most recent call last)",
            "\u001b[0;32m<ipython-input-15-0a63388c6925>\u001b[0m in \u001b[0;36m<module>\u001b[0;34m()\u001b[0m\n\u001b[0;32m----> 1\u001b[0;31m \u001b[0mdata\u001b[0m\u001b[0;34m.\u001b[0m\u001b[0mprofile_report\u001b[0m\u001b[0;34m(\u001b[0m\u001b[0;34m)\u001b[0m\u001b[0;34m\u001b[0m\u001b[0;34m\u001b[0m\u001b[0m\n\u001b[0m",
            "\u001b[0;32m/usr/local/lib/python3.6/dist-packages/pandas/core/generic.py\u001b[0m in \u001b[0;36m__getattr__\u001b[0;34m(self, name)\u001b[0m\n\u001b[1;32m   5272\u001b[0m             \u001b[0;32mif\u001b[0m \u001b[0mself\u001b[0m\u001b[0;34m.\u001b[0m\u001b[0m_info_axis\u001b[0m\u001b[0;34m.\u001b[0m\u001b[0m_can_hold_identifiers_and_holds_name\u001b[0m\u001b[0;34m(\u001b[0m\u001b[0mname\u001b[0m\u001b[0;34m)\u001b[0m\u001b[0;34m:\u001b[0m\u001b[0;34m\u001b[0m\u001b[0;34m\u001b[0m\u001b[0m\n\u001b[1;32m   5273\u001b[0m                 \u001b[0;32mreturn\u001b[0m \u001b[0mself\u001b[0m\u001b[0;34m[\u001b[0m\u001b[0mname\u001b[0m\u001b[0;34m]\u001b[0m\u001b[0;34m\u001b[0m\u001b[0;34m\u001b[0m\u001b[0m\n\u001b[0;32m-> 5274\u001b[0;31m             \u001b[0;32mreturn\u001b[0m \u001b[0mobject\u001b[0m\u001b[0;34m.\u001b[0m\u001b[0m__getattribute__\u001b[0m\u001b[0;34m(\u001b[0m\u001b[0mself\u001b[0m\u001b[0;34m,\u001b[0m \u001b[0mname\u001b[0m\u001b[0;34m)\u001b[0m\u001b[0;34m\u001b[0m\u001b[0;34m\u001b[0m\u001b[0m\n\u001b[0m\u001b[1;32m   5275\u001b[0m \u001b[0;34m\u001b[0m\u001b[0m\n\u001b[1;32m   5276\u001b[0m     \u001b[0;32mdef\u001b[0m \u001b[0m__setattr__\u001b[0m\u001b[0;34m(\u001b[0m\u001b[0mself\u001b[0m\u001b[0;34m,\u001b[0m \u001b[0mname\u001b[0m\u001b[0;34m:\u001b[0m \u001b[0mstr\u001b[0m\u001b[0;34m,\u001b[0m \u001b[0mvalue\u001b[0m\u001b[0;34m)\u001b[0m \u001b[0;34m->\u001b[0m \u001b[0;32mNone\u001b[0m\u001b[0;34m:\u001b[0m\u001b[0;34m\u001b[0m\u001b[0;34m\u001b[0m\u001b[0m\n",
            "\u001b[0;31mAttributeError\u001b[0m: 'DataFrame' object has no attribute 'profile_report'"
          ]
        }
      ]
    },
    {
      "cell_type": "code",
      "metadata": {
        "id": "XARGc-gz4fYP",
        "colab_type": "code",
        "colab": {}
      },
      "source": [
        "data.ProfileReport()"
      ],
      "execution_count": 0,
      "outputs": []
    },
    {
      "cell_type": "code",
      "metadata": {
        "id": "EU9oXH1KzY-M",
        "colab_type": "code",
        "colab": {}
      },
      "source": [
        "pandas_profiling.ProfileReport(data)"
      ],
      "execution_count": 0,
      "outputs": []
    },
    {
      "cell_type": "code",
      "metadata": {
        "id": "RHGAS3H1tlJo",
        "colab_type": "code",
        "colab": {}
      },
      "source": [
        "sns.scatterplot(data.groupby('driver_gk').driver_response.agg('mean').sort_values(ascending=False), \n",
        "                data.distance_km, \n",
        "                hue=data.driver_response)\n",
        "plt.gcf().set_size_inches(20,10)"
      ],
      "execution_count": 0,
      "outputs": []
    },
    {
      "cell_type": "code",
      "metadata": {
        "id": "NG6m3pK0B6Tn",
        "colab_type": "code",
        "colab": {}
      },
      "source": [
        "data.driver_gk.unique().shape"
      ],
      "execution_count": 0,
      "outputs": []
    },
    {
      "cell_type": "markdown",
      "metadata": {
        "id": "as0WBzj9XM_W",
        "colab_type": "text"
      },
      "source": [
        "гипотеза что реакция водителя зависит от класса заказа"
      ]
    },
    {
      "cell_type": "code",
      "metadata": {
        "id": "QkW0kMUTCTQ2",
        "colab_type": "code",
        "colab": {}
      },
      "source": [
        "data.groupby('offer_class_group').driver_response.agg('mean').sort_values(ascending=False).plot()"
      ],
      "execution_count": 0,
      "outputs": []
    },
    {
      "cell_type": "code",
      "metadata": {
        "id": "XOloJ2sb7tTh",
        "colab_type": "code",
        "colab": {}
      },
      "source": [
        "drive_gk1 = data.groupby('driver_gk').driver_response.agg('mean').sort_values(ascending=False).reset_index()\n",
        "sns.scatterplot(data = drive_gk1)"
      ],
      "execution_count": 0,
      "outputs": []
    },
    {
      "cell_type": "code",
      "metadata": {
        "id": "82ubXP1bllzO",
        "colab_type": "code",
        "colab": {}
      },
      "source": [
        "data1 = data[data.distance_km<100]\n",
        "data2 = data[data.distance_km>100]\n",
        "sns.jointplot(data1.duration_min, data1.driver_gk, color='Red')\n",
        "plt.gcf().set_size_inches(20,10)\n",
        "sns.jointplot(data2.duration_min, data2.driver_gk, color='Blue')\n",
        "plt.gcf().set_size_inches(20,10)"
      ],
      "execution_count": 0,
      "outputs": []
    },
    {
      "cell_type": "code",
      "metadata": {
        "id": "MKI4QFZYYSD6",
        "colab_type": "code",
        "colab": {}
      },
      "source": [
        "sns.heatmap(data.corr(),cmap='seismic', vmax=1, vmin=-1, annot=True)\n",
        "plt.gcf().set_size_inches(20,10)"
      ],
      "execution_count": 0,
      "outputs": []
    },
    {
      "cell_type": "code",
      "metadata": {
        "id": "Q079VRP6fzRn",
        "colab_type": "code",
        "colab": {}
      },
      "source": [
        "data1 = data[(data.driver_latitude>10)&(data.driver_longitude>10)&(data.origin_order_latitude>10)&(data.origin_order_longitude>10)]\n",
        "# data2 = data[data.driver_latitude>10]\n",
        "sns.scatterplot( data1.driver_longitude,data1.driver_latitude, hue=data1.offer_class_group)\n",
        "# sns.scatterplot(data1.origin_order_latitude, data1.origin_order_longitude, hue=data1.driver_response, palette='Blues')\n",
        "plt.gcf().set_size_inches(20,20)"
      ],
      "execution_count": 0,
      "outputs": []
    },
    {
      "cell_type": "markdown",
      "metadata": {
        "id": "w18pAna2xmyP",
        "colab_type": "text"
      },
      "source": [
        "В пределах МКАДа больше всего дорогих классов такси."
      ]
    },
    {
      "cell_type": "markdown",
      "metadata": {
        "id": "OP-bgehuFgEF",
        "colab_type": "text"
      },
      "source": [
        "Визуально похоже, что на ответ водителя больше всего зависит от  конкретного водителя и от класса заказа."
      ]
    },
    {
      "cell_type": "markdown",
      "metadata": {
        "id": "_rUjnFjs3upn",
        "colab_type": "text"
      },
      "source": [
        "**5. Определите стратегию преобразования категориальных признаков (т.е. как их сделать адекватными для моделей).**\n"
      ]
    },
    {
      "cell_type": "markdown",
      "metadata": {
        "id": "M4m-YlHm8f-w",
        "colab_type": "text"
      },
      "source": [
        "Так как мы применяем random forest то будем использовать label encoder"
      ]
    },
    {
      "cell_type": "code",
      "metadata": {
        "id": "YF19U9XJU6Aa",
        "colab_type": "code",
        "colab": {}
      },
      "source": [
        ""
      ],
      "execution_count": 0,
      "outputs": []
    },
    {
      "cell_type": "code",
      "metadata": {
        "id": "D_Eiwpg1Vms1",
        "colab_type": "code",
        "colab": {}
      },
      "source": [
        "data['offer_class_group'] = LabelEncoder().fit_transform(data['offer_class_group'])\n",
        "data['ride_type_desc'] = LabelEncoder().fit_transform(data['ride_type_desc'])\n",
        "data"
      ],
      "execution_count": 0,
      "outputs": []
    },
    {
      "cell_type": "markdown",
      "metadata": {
        "id": "yAzc8Trv3xAM",
        "colab_type": "text"
      },
      "source": [
        "**6. Найдите признаки, которые можно разделить на другие, или преобразовать в другой тип данных. Удалите лишние, при необходимости.**\n"
      ]
    },
    {
      "cell_type": "markdown",
      "metadata": {
        "id": "YnI-CJCAUTfn",
        "colab_type": "text"
      },
      "source": [
        "удалим ненужные колонки offer_gk, order_gk, distance_km, так как номера заказа и предложения не имеют значения для целевой метрики, а дистанция будет дублировать более важный параметр duration_min, по которому водители и будут ориентироваться."
      ]
    },
    {
      "cell_type": "code",
      "metadata": {
        "id": "nAUM85yEvUM4",
        "colab_type": "code",
        "colab": {}
      },
      "source": [
        "data_d = data.drop(data.columns[[0,4,9]],axis=1)\n"
      ],
      "execution_count": 0,
      "outputs": []
    },
    {
      "cell_type": "markdown",
      "metadata": {
        "id": "av5Xv9V2VZ4O",
        "colab_type": "text"
      },
      "source": [
        "добавим новый признак как норму разницы координат между заказом и водителем. (возможно это дублирует параметр который мы только что удалили, но это не точно, поэтому можно попробовать)"
      ]
    },
    {
      "cell_type": "code",
      "metadata": {
        "id": "86ljx7w8sKQL",
        "colab_type": "code",
        "colab": {}
      },
      "source": [
        "data_d['dist2'] = ((data_d.driver_latitude - data_d.origin_order_latitude)**2 + \n",
        "                   (data_d.driver_longitude - data_d.origin_order_longitude)**2)**0.5"
      ],
      "execution_count": 0,
      "outputs": []
    },
    {
      "cell_type": "code",
      "metadata": {
        "id": "rW_tIgIb3R46",
        "colab_type": "code",
        "colab": {}
      },
      "source": [
        "sns.heatmap(data_d.corr(), cmap='seismic', vmax=1, vmin=-1)\n",
        "plt.gcf().set_size_inches(15,9)"
      ],
      "execution_count": 0,
      "outputs": []
    },
    {
      "cell_type": "code",
      "metadata": {
        "id": "NAjS-Fuj4RtW",
        "colab_type": "code",
        "colab": {}
      },
      "source": [
        "sns.pairplot(data_d, diag_kind='kde', markers='.')\n",
        "plt.gcf().set_size_inches(30,30)"
      ],
      "execution_count": 0,
      "outputs": []
    },
    {
      "cell_type": "code",
      "metadata": {
        "id": "A-Laa7ybJcrA",
        "colab_type": "code",
        "colab": {}
      },
      "source": [
        "# координаты водителя - координаты заказа и проверить зависимость с дистанцией заказа"
      ],
      "execution_count": 0,
      "outputs": []
    },
    {
      "cell_type": "code",
      "metadata": {
        "id": "gRNocb4K-k_G",
        "colab_type": "code",
        "colab": {}
      },
      "source": [
        "RF1(data, 13, range(13))"
      ],
      "execution_count": 0,
      "outputs": []
    },
    {
      "cell_type": "markdown",
      "metadata": {
        "id": "NQlok0Dh37RC",
        "colab_type": "text"
      },
      "source": [
        "7. Разделите выборку на обучаемую и тестовую.\n"
      ]
    },
    {
      "cell_type": "code",
      "metadata": {
        "id": "_TR0HbBIGAWk",
        "colab_type": "code",
        "colab": {}
      },
      "source": [
        ""
      ],
      "execution_count": 0,
      "outputs": []
    },
    {
      "cell_type": "code",
      "metadata": {
        "id": "GZYTE5ol22VS",
        "colab_type": "code",
        "colab": {}
      },
      "source": [
        "x_train, x_test, y_train, y_test = train_test_split(data.drop('driver_response', axis=1), \n",
        "                                                    data.driver_response, test_size=0.6, \n",
        "                                                    random_state=11)"
      ],
      "execution_count": 0,
      "outputs": []
    },
    {
      "cell_type": "code",
      "metadata": {
        "id": "kPYDh8zvRV4b",
        "colab_type": "code",
        "colab": {}
      },
      "source": [
        "x_train"
      ],
      "execution_count": 0,
      "outputs": []
    },
    {
      "cell_type": "markdown",
      "metadata": {
        "id": "eERqHCU638-T",
        "colab_type": "text"
      },
      "source": [
        "8. Обучите модель. Напишите в markdown свои наблюдения по полученным результатам. Хорошие результаты дают классификаторы RandomForest и XGBoost"
      ]
    },
    {
      "cell_type": "code",
      "metadata": {
        "id": "olY7ixWhTQIU",
        "colab_type": "code",
        "colab": {}
      },
      "source": [
        ""
      ],
      "execution_count": 0,
      "outputs": []
    },
    {
      "cell_type": "code",
      "metadata": {
        "id": "J6r9RJ3SyZHU",
        "colab_type": "code",
        "colab": {}
      },
      "source": [
        ""
      ],
      "execution_count": 0,
      "outputs": []
    },
    {
      "cell_type": "code",
      "metadata": {
        "id": "JiXvw3P3x1nv",
        "colab_type": "code",
        "colab": {}
      },
      "source": [
        "\n",
        "\n",
        "\n",
        "x_train, x_test, y_train, y_test = train_test_split(data.drop('driver_response', axis=1), \n",
        "                                                    data.driver_response, test_size=0.6, \n",
        "                                                    random_state=11)\n",
        "model = RandomForestClassifier(n_estimators=100)\n",
        "model.fit(x_train, y_train)\n",
        "print(model.score(x_test, y_test))\n",
        "print(classification_report(y_test, model.predict(x_test)))\n",
        "sns.barplot(data.drop('driver_response',axis=1).columns, model.feature_importances_, )\n",
        "plt.xticks(rotation=90)\n",
        "plt.gcf().set_size_inches(15,10)"
      ],
      "execution_count": 0,
      "outputs": []
    },
    {
      "cell_type": "code",
      "metadata": {
        "id": "96EE_lR1zAOI",
        "colab_type": "code",
        "colab": {}
      },
      "source": [
        "data[data.columns[[7,3,13]]]"
      ],
      "execution_count": 0,
      "outputs": []
    },
    {
      "cell_type": "code",
      "metadata": {
        "id": "wKO5tE1WUVrM",
        "colab_type": "code",
        "colab": {}
      },
      "source": [
        "def RF1(dataset, target_column_num, input_nums):\n",
        "  x_train, x_test, y_train, y_test = train_test_split(dataset.drop(dataset.columns[target_column_num], axis=1)[dataset.columns[[input_nums]]], dataset[dataset.columns[target_column_num]], test_size=0.5)\n",
        "  model = RandomForestClassifier(n_estimators=100)\n",
        "  model.fit(x_train, y_train)\n",
        "  score =  model.score(x_test, y_test)\n",
        "  real_score = round(100*(score - np.float(1 / dataset[dataset.columns[target_column_num]].unique().shape[0])), 3) # реальные очки модели с вычетом случайного угадывания\n",
        "  # print('model score', score, type(score))\n",
        "  # print('real score', real_score,'%') \n",
        "  # print(classification_report(y_test, model.predict(x_test)))\n",
        "  # sns.barplot(dataset.drop(dataset.columns[target_column_num], axis=1)[dataset.columns[[input_nums]]].columns, model.feature_importances_)\n",
        "  # plt.xticks(rotation=90)\n",
        "  # plt.gcf().set_size_inches(15,8)\n",
        "  return real_score"
      ],
      "execution_count": 0,
      "outputs": []
    },
    {
      "cell_type": "code",
      "metadata": {
        "id": "HvpFD_-t74wA",
        "colab_type": "code",
        "colab": {}
      },
      "source": [
        "data['driver_response'].unique().shape[0]"
      ],
      "execution_count": 0,
      "outputs": []
    },
    {
      "cell_type": "code",
      "metadata": {
        "id": "1oJmveF4r9G-",
        "colab_type": "code",
        "colab": {}
      },
      "source": [
        "type(s)"
      ],
      "execution_count": 0,
      "outputs": []
    },
    {
      "cell_type": "code",
      "metadata": {
        "id": "5FvQCof16s4Q",
        "colab_type": "code",
        "colab": {}
      },
      "source": [
        "data.columns"
      ],
      "execution_count": 0,
      "outputs": []
    },
    {
      "cell_type": "code",
      "metadata": {
        "id": "L5hjd9Jmimlp",
        "colab_type": "code",
        "colab": {}
      },
      "source": [
        "s = RF1(data, 13, range(13))\n",
        "s"
      ],
      "execution_count": 0,
      "outputs": []
    },
    {
      "cell_type": "code",
      "metadata": {
        "id": "mk3NB9dJAJ4C",
        "colab_type": "code",
        "colab": {}
      },
      "source": [
        "data.info()"
      ],
      "execution_count": 0,
      "outputs": []
    },
    {
      "cell_type": "code",
      "metadata": {
        "id": "PMQXi9iPSRFD",
        "colab_type": "code",
        "colab": {}
      },
      "source": [
        "data_t2 = data[(data.driver_latitude > 20) & (data.origin_order_latitude > 20)]\n",
        "RF1(data_t2, 13, range(13)[5:8])"
      ],
      "execution_count": 0,
      "outputs": []
    },
    {
      "cell_type": "code",
      "metadata": {
        "id": "LwWswqdej-yc",
        "colab_type": "code",
        "colab": {}
      },
      "source": [
        "results = pd\n",
        "for q in range(0, 45, 5):\n",
        "  data_t1 = data[(data.driver_latitude < data.driver_latitude.quantile(1 - q/100)) & (data.driver_gk > data.driver_gk.quantile(q/100))]\n",
        "  results = RF1(data_t1, 13, range(13))\n",
        "  print(q, results)\n",
        "\n",
        "  \n",
        "#   results = pd.DataFrame(data={'Feature':data.drop('driver_response',axis=1).columns,'Importance':model.feature_importances_}).sort_values(by='Importance', ascending=False)\n",
        "# sns.barplot(results.Feature, results.Importance)\n",
        "# plt.xticks(rotation=90)\n",
        "# plt.gcf().set_size_inches(15,10)"
      ],
      "execution_count": 0,
      "outputs": []
    },
    {
      "cell_type": "code",
      "metadata": {
        "id": "jL-ES6xfy52q",
        "colab_type": "code",
        "colab": {}
      },
      "source": [
        "\n"
      ],
      "execution_count": 0,
      "outputs": []
    },
    {
      "cell_type": "code",
      "metadata": {
        "id": "XI69kp9Vyt6D",
        "colab_type": "code",
        "colab": {}
      },
      "source": [
        ""
      ],
      "execution_count": 0,
      "outputs": []
    },
    {
      "cell_type": "code",
      "metadata": {
        "id": "4oGtC2f7z9W_",
        "colab_type": "code",
        "colab": {}
      },
      "source": [
        ""
      ],
      "execution_count": 0,
      "outputs": []
    },
    {
      "cell_type": "code",
      "metadata": {
        "id": "WQQe8HhQt89B",
        "colab_type": "code",
        "colab": {}
      },
      "source": [
        ""
      ],
      "execution_count": 0,
      "outputs": []
    },
    {
      "cell_type": "code",
      "metadata": {
        "id": "5jEPl24_uAkz",
        "colab_type": "code",
        "colab": {}
      },
      "source": [
        "results = pd.DataFrame(data={'Feature':data.drop('driver_response',axis=1).columns,'Importance':model.feature_importances_}).sort_values(by='Importance', ascending=False)\n",
        "sns.barplot(results.Feature, results.Importance)\n",
        "plt.xticks(rotation=90)\n",
        "plt.gcf().set_size_inches(15,10)"
      ],
      "execution_count": 0,
      "outputs": []
    },
    {
      "cell_type": "code",
      "metadata": {
        "id": "g7bFQGhmvulE",
        "colab_type": "code",
        "colab": {}
      },
      "source": [
        "import xgboost as xgb\n",
        "# read in data\n",
        "dtrain = xgb.DMatrix('demo/data/agaricus.txt.train')\n",
        "dtest = xgb.DMatrix('demo/data/agaricus.txt.test')\n",
        "# specify parameters via map\n",
        "param = {'max_depth':2, 'eta':1, 'silent':1, 'objective':'binary:logistic' }\n",
        "num_round = 2\n",
        "bst = xgb.train(param, dtrain, num_round)\n",
        "# make prediction\n",
        "preds = bst.predict(dtest) "
      ],
      "execution_count": 0,
      "outputs": []
    },
    {
      "cell_type": "code",
      "metadata": {
        "id": "PazIFTec14_X",
        "colab_type": "code",
        "colab": {}
      },
      "source": [
        "!jupyter nbconvert --to html hw14-2.ipynb"
      ],
      "execution_count": 0,
      "outputs": []
    }
  ]
}