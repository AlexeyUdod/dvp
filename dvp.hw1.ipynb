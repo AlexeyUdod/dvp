{
 "cells": [
  {
   "cell_type": "code",
   "execution_count": 1,
   "metadata": {},
   "outputs": [],
   "source": [
    "import numpy as np\n",
    "import pandas as pd\n",
    "from sklearn.linear_model import LinearRegression"
   ]
  },
  {
   "cell_type": "markdown",
   "metadata": {},
   "source": [
    "Генерируем сет для 4 параметров космических тел: остаточный заряд коммы, спектр-анализ плотности вещества, оптически измеренный общий объем и расчетная масса."
   ]
  },
  {
   "cell_type": "code",
   "execution_count": 34,
   "metadata": {},
   "outputs": [
    {
     "data": {
      "text/html": [
       "<div>\n",
       "<style scoped>\n",
       "    .dataframe tbody tr th:only-of-type {\n",
       "        vertical-align: middle;\n",
       "    }\n",
       "\n",
       "    .dataframe tbody tr th {\n",
       "        vertical-align: top;\n",
       "    }\n",
       "\n",
       "    .dataframe thead th {\n",
       "        text-align: right;\n",
       "    }\n",
       "</style>\n",
       "<table border=\"1\" class=\"dataframe\">\n",
       "  <thead>\n",
       "    <tr style=\"text-align: right;\">\n",
       "      <th></th>\n",
       "      <th>charge</th>\n",
       "      <th>density</th>\n",
       "      <th>volume</th>\n",
       "      <th>mass</th>\n",
       "    </tr>\n",
       "  </thead>\n",
       "  <tbody>\n",
       "    <tr>\n",
       "      <td>0</td>\n",
       "      <td>181</td>\n",
       "      <td>20</td>\n",
       "      <td>10548</td>\n",
       "      <td>210960000</td>\n",
       "    </tr>\n",
       "    <tr>\n",
       "      <td>1</td>\n",
       "      <td>249</td>\n",
       "      <td>20</td>\n",
       "      <td>16459</td>\n",
       "      <td>329180000</td>\n",
       "    </tr>\n",
       "    <tr>\n",
       "      <td>2</td>\n",
       "      <td>951</td>\n",
       "      <td>21</td>\n",
       "      <td>26583</td>\n",
       "      <td>558243000</td>\n",
       "    </tr>\n",
       "    <tr>\n",
       "      <td>3</td>\n",
       "      <td>464</td>\n",
       "      <td>12</td>\n",
       "      <td>1625</td>\n",
       "      <td>19500000</td>\n",
       "    </tr>\n",
       "    <tr>\n",
       "      <td>4</td>\n",
       "      <td>101</td>\n",
       "      <td>23</td>\n",
       "      <td>20960</td>\n",
       "      <td>482080000</td>\n",
       "    </tr>\n",
       "    <tr>\n",
       "      <td>...</td>\n",
       "      <td>...</td>\n",
       "      <td>...</td>\n",
       "      <td>...</td>\n",
       "      <td>...</td>\n",
       "    </tr>\n",
       "    <tr>\n",
       "      <td>495</td>\n",
       "      <td>937</td>\n",
       "      <td>5</td>\n",
       "      <td>14361</td>\n",
       "      <td>71805000</td>\n",
       "    </tr>\n",
       "    <tr>\n",
       "      <td>496</td>\n",
       "      <td>380</td>\n",
       "      <td>5</td>\n",
       "      <td>6827</td>\n",
       "      <td>34135000</td>\n",
       "    </tr>\n",
       "    <tr>\n",
       "      <td>497</td>\n",
       "      <td>76</td>\n",
       "      <td>13</td>\n",
       "      <td>7006</td>\n",
       "      <td>91078000</td>\n",
       "    </tr>\n",
       "    <tr>\n",
       "      <td>498</td>\n",
       "      <td>158</td>\n",
       "      <td>16</td>\n",
       "      <td>29380</td>\n",
       "      <td>470080000</td>\n",
       "    </tr>\n",
       "    <tr>\n",
       "      <td>499</td>\n",
       "      <td>232</td>\n",
       "      <td>20</td>\n",
       "      <td>22489</td>\n",
       "      <td>449780000</td>\n",
       "    </tr>\n",
       "  </tbody>\n",
       "</table>\n",
       "<p>500 rows × 4 columns</p>\n",
       "</div>"
      ],
      "text/plain": [
       "     charge  density  volume       mass\n",
       "0       181       20   10548  210960000\n",
       "1       249       20   16459  329180000\n",
       "2       951       21   26583  558243000\n",
       "3       464       12    1625   19500000\n",
       "4       101       23   20960  482080000\n",
       "..      ...      ...     ...        ...\n",
       "495     937        5   14361   71805000\n",
       "496     380        5    6827   34135000\n",
       "497      76       13    7006   91078000\n",
       "498     158       16   29380  470080000\n",
       "499     232       20   22489  449780000\n",
       "\n",
       "[500 rows x 4 columns]"
      ]
     },
     "execution_count": 34,
     "metadata": {},
     "output_type": "execute_result"
    }
   ],
   "source": [
    "n = 500\n",
    "charge = np.random.choice(1000, n)   #заряд астероида Кулон\n",
    "density = np.random.choice(30, n) # плотность астероида грамм/см3\n",
    "volume = np.random.choice(30000, n_samples) # объем астероида м3\n",
    "mass = density * volume * 1000 # масса астероида кг\n",
    "data = pd.DataFrame({'charge': charge, 'density': density, 'volume': volume, 'mass': mass})\n",
    "data"
   ]
  },
  {
   "cell_type": "markdown",
   "metadata": {},
   "source": [
    "обучаем модель линейной регрессии на данных заряда, плотности и объема с целевыми данными массы."
   ]
  },
  {
   "cell_type": "code",
   "execution_count": 46,
   "metadata": {},
   "outputs": [
    {
     "name": "stdout",
     "output_type": "stream",
     "text": [
      "Weights: [9.80835160e+02 1.53983781e+07 1.45478185e+04]\n",
      "Bias: -230908648.01430535\n",
      "Error: 53064631.06251239\n"
     ]
    }
   ],
   "source": [
    "from sklearn.metrics import mean_absolute_error\n",
    "\n",
    "X = data[['charge', 'density', 'volume']]\n",
    "y = data['mass']\n",
    "reg = LinearRegression().fit(X, y)\n",
    "print(f\"Weights: {reg.coef_}\\nBias: {reg.intercept_}\\nError: {mean_absolute_error(reg.predict(data[['charge', 'density', 'volume']]), y)}\")"
   ]
  },
  {
   "cell_type": "markdown",
   "metadata": {},
   "source": [
    "Обучаем модель линейной регрессии на данных плотности и объема с целевыми данными массы."
   ]
  },
  {
   "cell_type": "code",
   "execution_count": 47,
   "metadata": {},
   "outputs": [
    {
     "name": "stdout",
     "output_type": "stream",
     "text": [
      "Weights: [1.53981892e+07 1.45475706e+04]\n",
      "Bias: -230438158.63006818\n",
      "Error: 53068449.236065246\n"
     ]
    }
   ],
   "source": [
    "X = data[['density', 'volume']]\n",
    "y = data['mass']\n",
    "reg = LinearRegression().fit(X, y)\n",
    "print(f\"Weights: {reg.coef_}\\nBias: {reg.intercept_}\\nError: {mean_absolute_error(reg.predict(data[['density', 'volume']]), y)}\")"
   ]
  },
  {
   "cell_type": "markdown",
   "metadata": {},
   "source": [
    "Создаем новый синтетический признак"
   ]
  },
  {
   "cell_type": "code",
   "execution_count": 48,
   "metadata": {},
   "outputs": [
    {
     "data": {
      "text/html": [
       "<div>\n",
       "<style scoped>\n",
       "    .dataframe tbody tr th:only-of-type {\n",
       "        vertical-align: middle;\n",
       "    }\n",
       "\n",
       "    .dataframe tbody tr th {\n",
       "        vertical-align: top;\n",
       "    }\n",
       "\n",
       "    .dataframe thead th {\n",
       "        text-align: right;\n",
       "    }\n",
       "</style>\n",
       "<table border=\"1\" class=\"dataframe\">\n",
       "  <thead>\n",
       "    <tr style=\"text-align: right;\">\n",
       "      <th></th>\n",
       "      <th>charge</th>\n",
       "      <th>density</th>\n",
       "      <th>volume</th>\n",
       "      <th>mass</th>\n",
       "      <th>sintet</th>\n",
       "    </tr>\n",
       "  </thead>\n",
       "  <tbody>\n",
       "    <tr>\n",
       "      <td>0</td>\n",
       "      <td>181</td>\n",
       "      <td>20</td>\n",
       "      <td>10548</td>\n",
       "      <td>210960000</td>\n",
       "      <td>210960</td>\n",
       "    </tr>\n",
       "    <tr>\n",
       "      <td>1</td>\n",
       "      <td>249</td>\n",
       "      <td>20</td>\n",
       "      <td>16459</td>\n",
       "      <td>329180000</td>\n",
       "      <td>329180</td>\n",
       "    </tr>\n",
       "    <tr>\n",
       "      <td>2</td>\n",
       "      <td>951</td>\n",
       "      <td>21</td>\n",
       "      <td>26583</td>\n",
       "      <td>558243000</td>\n",
       "      <td>558243</td>\n",
       "    </tr>\n",
       "    <tr>\n",
       "      <td>3</td>\n",
       "      <td>464</td>\n",
       "      <td>12</td>\n",
       "      <td>1625</td>\n",
       "      <td>19500000</td>\n",
       "      <td>19500</td>\n",
       "    </tr>\n",
       "    <tr>\n",
       "      <td>4</td>\n",
       "      <td>101</td>\n",
       "      <td>23</td>\n",
       "      <td>20960</td>\n",
       "      <td>482080000</td>\n",
       "      <td>482080</td>\n",
       "    </tr>\n",
       "    <tr>\n",
       "      <td>...</td>\n",
       "      <td>...</td>\n",
       "      <td>...</td>\n",
       "      <td>...</td>\n",
       "      <td>...</td>\n",
       "      <td>...</td>\n",
       "    </tr>\n",
       "    <tr>\n",
       "      <td>495</td>\n",
       "      <td>937</td>\n",
       "      <td>5</td>\n",
       "      <td>14361</td>\n",
       "      <td>71805000</td>\n",
       "      <td>71805</td>\n",
       "    </tr>\n",
       "    <tr>\n",
       "      <td>496</td>\n",
       "      <td>380</td>\n",
       "      <td>5</td>\n",
       "      <td>6827</td>\n",
       "      <td>34135000</td>\n",
       "      <td>34135</td>\n",
       "    </tr>\n",
       "    <tr>\n",
       "      <td>497</td>\n",
       "      <td>76</td>\n",
       "      <td>13</td>\n",
       "      <td>7006</td>\n",
       "      <td>91078000</td>\n",
       "      <td>91078</td>\n",
       "    </tr>\n",
       "    <tr>\n",
       "      <td>498</td>\n",
       "      <td>158</td>\n",
       "      <td>16</td>\n",
       "      <td>29380</td>\n",
       "      <td>470080000</td>\n",
       "      <td>470080</td>\n",
       "    </tr>\n",
       "    <tr>\n",
       "      <td>499</td>\n",
       "      <td>232</td>\n",
       "      <td>20</td>\n",
       "      <td>22489</td>\n",
       "      <td>449780000</td>\n",
       "      <td>449780</td>\n",
       "    </tr>\n",
       "  </tbody>\n",
       "</table>\n",
       "<p>500 rows × 5 columns</p>\n",
       "</div>"
      ],
      "text/plain": [
       "     charge  density  volume       mass  sintet\n",
       "0       181       20   10548  210960000  210960\n",
       "1       249       20   16459  329180000  329180\n",
       "2       951       21   26583  558243000  558243\n",
       "3       464       12    1625   19500000   19500\n",
       "4       101       23   20960  482080000  482080\n",
       "..      ...      ...     ...        ...     ...\n",
       "495     937        5   14361   71805000   71805\n",
       "496     380        5    6827   34135000   34135\n",
       "497      76       13    7006   91078000   91078\n",
       "498     158       16   29380  470080000  470080\n",
       "499     232       20   22489  449780000  449780\n",
       "\n",
       "[500 rows x 5 columns]"
      ]
     },
     "execution_count": 48,
     "metadata": {},
     "output_type": "execute_result"
    }
   ],
   "source": [
    "data['sintet'] = data['density'] * data['volume']\n",
    "data"
   ]
  },
  {
   "cell_type": "markdown",
   "metadata": {},
   "source": [
    "Обучаем модель линейной регрессии на данных синтетического признака с целевыми данными массы."
   ]
  },
  {
   "cell_type": "code",
   "execution_count": 50,
   "metadata": {},
   "outputs": [
    {
     "name": "stdout",
     "output_type": "stream",
     "text": [
      "Weights: [1000.]\n",
      "Bias: -5.960464477539063e-08\n",
      "Error: 3.1338888220489027e-08\n"
     ]
    }
   ],
   "source": [
    "X = data[['sintet']]\n",
    "y = data['mass']\n",
    "reg = LinearRegression().fit(X, y)\n",
    "print(f\"Weights: {reg.coef_}\\nBias: {reg.intercept_}\\nError: {mean_absolute_error(reg.predict(data[['sintet']]), y)}\")\n",
    "# print(f'Bias: {reg.intercept_}')\n",
    "# pred_values = \n",
    "# print(f'Error: {mean_absolute_error(pred_values, y)}')"
   ]
  },
  {
   "cell_type": "markdown",
   "metadata": {},
   "source": [
    "И, о чудо, это свершилось!! Вес равен нашему коэфициенту перевода единиц измерения (даром что флоат), а ошибка провалилась в наномиры и уже не видна невооруженным взглядом!"
   ]
  },
  {
   "cell_type": "markdown",
   "metadata": {},
   "source": [
    "А если серьезно, то какую простую модель здесь можно было применить, чтобы получить нулевую ошибку без синтетических подсказок?"
   ]
  }
 ],
 "metadata": {
  "kernelspec": {
   "display_name": "Python 3",
   "language": "python",
   "name": "python3"
  },
  "language_info": {
   "codemirror_mode": {
    "name": "ipython",
    "version": 3
   },
   "file_extension": ".py",
   "mimetype": "text/x-python",
   "name": "python",
   "nbconvert_exporter": "python",
   "pygments_lexer": "ipython3",
   "version": "3.7.4"
  }
 },
 "nbformat": 4,
 "nbformat_minor": 2
}
